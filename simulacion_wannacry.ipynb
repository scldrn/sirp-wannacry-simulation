{
 "cells": [
  {
   "cell_type": "markdown",
   "metadata": {},
   "source": [
    "# Simulación de Propagación de WannaCry con Modelo SIRP\n",
    "\n",
    "Este notebook permite simular y visualizar la propagación del ransomware WannaCry utilizando un modelo SIRP (Susceptibles-Infectados-Removidos-Protegidos) en una red de 256 equipos."
   ]
  },
  {
   "cell_type": "code",
   "execution_count": null,
   "metadata": {},
   "source": [
    "# Importar librerías necesarias\n",
    "import numpy as np\n",
    "import matplotlib.pyplot as plt\n",
    "from matplotlib.animation import FuncAnimation\n",
    "import networkx as nx\n",
    "from tqdm import tqdm\n",
    "import ipywidgets as widgets\n",
    "from IPython.display import display, HTML\n",
    "\n",
    "# Importar nuestro modelo SIRP\n",
    "from modelo_sirp import ModeloSIRP\n",
    "from interfaz_interactiva import iniciar_interfaz"
   ]
  },
  {
   "cell_type": "markdown",
   "metadata": {},
   "source": [
    "## 1. Simulación de Escenarios\n",
    "\n",
    "Primero, vamos a simular todos los escenarios definidos en el modelo:"
   ]
  },
  {
   "cell_type": "code",
   "execution_count": null,
   "metadata": {},
   "source": [
    "# Crear instancia del modelo\n",
    "modelo = ModeloSIRP()\n",
    "\n",
    "# Simular todos los escenarios\n",
    "modelo.simular_todos_escenarios()"
   ]
  },
  {
   "cell_type": "markdown",
   "metadata": {},
   "source": [
    "## 2. Visualización de Curvas SIRP\n",
    "\n",
    "Ahora visualizamos las curvas SIRP para cada escenario:"
   ]
  },
  {
   "cell_type": "code",
   "execution_count": null,
   "metadata": {},
   "source": [
    "# Graficar curvas para todos los escenarios\n",
    "fig, axs = modelo.graficar_curvas()\n",
    "plt.show()"
   ]
  },
  {
   "cell_type": "markdown",
   "metadata": {},
   "source": [
    "## 3. Animación de la Propagación en Red\n",
    "\n",
    "Podemos visualizar la propagación del ransomware en la red para cada escenario:"
   ]
  },
  {
   "cell_type": "code",
   "execution_count": null,
   "metadata": {},
   "source": [
    "# Seleccionar un escenario para animar\n",
    "escenario = 'baseline'  # Cambiar a 'kill_switch', 'parcheo', 'cuarentena' o 'combinado'\n",
    "\n",
    "# Crear animación\n",
    "ani, fig = modelo.animar_propagacion(escenario)\n",
    "plt.close()  # Cerrar la figura para evitar duplicados\n",
    "\n",
    "# Mostrar animación\n",
    "from IPython.display import HTML\n",
    "HTML(ani.to_jshtml())"
   ]
  },
  {
   "cell_type": "markdown",
   "metadata": {},
   "source": [
    "## 4. Comparación de Escenarios\n",
    "\n",
    "Comparemos la evolución de los infectados en todos los escenarios:"
   ]
  },
  {
   "cell_type": "code",
   "execution_count": null,
   "metadata": {},
   "source": [
    "# Graficar curvas de infectados para todos los escenarios\n",
    "plt.figure(figsize=(12, 6))\n",
    "\n",
    "for nombre, res in modelo.resultados.items():\n",
    "    plt.plot(res['tiempo'], res['I'], label=nombre)\n",
    "\n",
    "plt.title('Comparación de Infectados en Diferentes Escenarios')\n",
    "plt.xlabel('Tiempo (minutos)')\n",
    "plt.ylabel('Número de equipos infectados')\n",
    "plt.grid(True, alpha=0.3)\n",
    "plt.legend()\n",
    "plt.show()"
   ]
  },
  {
   "cell_type": "markdown",
   "metadata": {},
   "source": [
    "## 5. Interfaz Interactiva\n",
    "\n",
    "Finalmente, podemos explorar los resultados con una interfaz interactiva:"
   ]
  },
  {
   "cell_type": "code",
   "execution_count": null,
   "metadata": {},
   "source": [
    "# Iniciar interfaz interactiva\n",
    "interfaz = iniciar_interfaz()"
   ]
  },
  {
   "cell_type": "markdown",
   "metadata": {},
   "source": [
    "## 6. Guardar Animaciones\n",
    "\n",
    "Para guardar las animaciones como archivos MP4 (requiere ffmpeg):"
   ]
  },
  {
   "cell_type": "code",
   "execution_count": null,
   "metadata": {},
   "source": [
    "# Guardar animaciones para todos los escenarios\n",
    "for escenario in modelo.escenarios:\n",
    "    print(f\"Creando animación para escenario: {escenario}\")\n",
    "    modelo.animar_propagacion(escenario, guardar=True)"
   ]
  }
 ],
 "metadata": {
  "kernelspec": {
   "display_name": "Python 3",
   "language": "python",
   "name": "python3"
  },
  "language_info": {
   "codemirror_mode": {
    "name": "ipython",
    "version": 3
   },
   "file_extension": ".py",
   "mimetype": "text/x-python",
   "name": "python",
   "nbconvert_exporter": "python",
   "pygments_lexer": "ipython3",
   "version": "3.8.10"
  }
 },
 "nbformat": 4,
 "nbformat_minor": 4
}